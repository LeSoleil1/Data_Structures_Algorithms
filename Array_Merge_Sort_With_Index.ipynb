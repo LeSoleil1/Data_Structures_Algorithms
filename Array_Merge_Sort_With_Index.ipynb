{
  "nbformat": 4,
  "nbformat_minor": 0,
  "metadata": {
    "colab": {
      "name": "Array_Merge_Sort_With_Index.ipynb",
      "provenance": [],
      "include_colab_link": true
    },
    "kernelspec": {
      "name": "python3",
      "display_name": "Python 3"
    }
  },
  "cells": [
    {
      "cell_type": "markdown",
      "metadata": {
        "id": "view-in-github",
        "colab_type": "text"
      },
      "source": [
        "<a href=\"https://colab.research.google.com/github/soheilso/DSAA/blob/master/Array_Merge_Sort_With_Index.ipynb\" target=\"_parent\"><img src=\"https://colab.research.google.com/assets/colab-badge.svg\" alt=\"Open In Colab\"/></a>"
      ]
    },
    {
      "cell_type": "code",
      "metadata": {
        "id": "tsJHbDKaEHtP",
        "colab_type": "code",
        "colab": {}
      },
      "source": [
        "def split_Arrays(input_array,corresp_indices):\n",
        "  arr_leng = len(input_array)\n",
        "  mid_point = arr_leng // 2\n",
        "  left_arr = input_array[:mid_point]\n",
        "  left_ind = corresp_indices[:mid_point]\n",
        "  right_arr =  input_array[mid_point:]\n",
        "  right_ind  = corresp_indices[mid_point:]\n",
        "  return left_arr,left_ind,right_arr,right_ind\n",
        "\n",
        "\n",
        "def merge_Sort_With_Index(input_Array,array_Indices):\n",
        "  arr_leng = len(input_Array)\n",
        "  if (arr_leng <= 1):\n",
        "    return input_Array,array_Indices\n",
        "  else:\n",
        "    left_array,left_index,right_array,right_index = split_Arrays(input_Array,array_Indices)\n",
        "    la1,li1 = merge_Sort_With_Index(left_array,left_index)\n",
        "    la2,li2 = merge_Sort_With_Index(right_array,right_index)\n",
        "    return Sorted_Merging_With_Index(la1,li1,la2,li2)\n",
        "\n",
        "\n",
        "def Sorted_Merging_With_Index( array1 , index_array1 , array2 , index_array2):\n",
        "  return_array = [0] * (len(array1) + len(array2))\n",
        "  return_index = [0] * (len(array1) + len(array2))\n",
        "  ret_index = 0\n",
        "  ind_arr1 = 0\n",
        "  ind_arr2 = 0\n",
        "  for ind in range(len(return_array)):\n",
        "    if ind_arr1 >= len(array1) :\n",
        "      return_array[ret_index] = array2[ind_arr2]\n",
        "      return_index[ret_index] = index_array2[ind_arr2]\n",
        "      ret_index += 1\n",
        "      ind_arr2 += 1\n",
        "    elif ind_arr2 >= len(array2):\n",
        "      return_array[ret_index] = array1[ind_arr1]\n",
        "      return_index[ret_index] = index_array1[ind_arr1]\n",
        "      ret_index += 1\n",
        "      ind_arr1 += 1\n",
        "    elif (array1[ind_arr1] <= array2[ind_arr2]):\n",
        "      return_array[ret_index] = array1[ind_arr1]\n",
        "      return_index[ret_index] = index_array1[ind_arr1]\n",
        "      ret_index += 1\n",
        "      ind_arr1 += 1\n",
        "    else:\n",
        "      return_array[ret_index] = array2[ind_arr2]\n",
        "      return_index[ret_index] = index_array2[ind_arr2]\n",
        "      ret_index += 1\n",
        "      ind_arr2 += 1\n",
        "  return return_array, return_index\n"
      ],
      "execution_count": 0,
      "outputs": []
    }
  ]
}